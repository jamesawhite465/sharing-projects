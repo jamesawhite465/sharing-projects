{
 "cells": [
  {
   "cell_type": "markdown",
   "metadata": {
    "collapsed": true
   },
   "source": [
    "# Find My New City\n",
    "\n",
    "### Many people wish to move cities and they are unsure on which city they should move to, one natural option to consider is moving to a city that is the most similar to your own. This project will solve that problem, it will take a users city based in the US as an input (such as a university student who has received multiple offers in different cities), after this then the program will cluster and classify cities based on their similarity to each other. After this is complete the city/cities which are most similar to the users original city will be displayed for them as well as the cities level of similarity to the original. \n",
    "\n",
    "### To complete the project I will be using US cities data (found here https://simplemaps.com/data/us-cities) and the FourSquare API together to obtain information about the various cities. Data such as venues and venue types will be extracted for each city in the United States. This data will then be used as dimensions to feed a machine learning algorithm which will then classify the cities into different clusters.\n",
    "\n",
    "### Target audience: Those wishing to move cities due to any number of reasons. One such example is someone who has received multiple university offers in different cities and wishes to find a town that closely resembles their own.\n",
    "\n",
    "### Data used: https://simplemaps.com/data/us-cities and using the FourSquare API (https://foursquare.com) to extract venue types within a certain radius around the cities."
   ]
  },
  {
   "cell_type": "code",
   "execution_count": null,
   "metadata": {},
   "outputs": [
    {
     "name": "stdout",
     "output_type": "stream",
     "text": [
      "Solving environment: | "
     ]
    }
   ],
   "source": [
    "import numpy as np\n",
    "import pandas as pd\n",
    "import requests # library to handle requests\n",
    "from pandas.io.json import json_normalize # tranform JSON file into a pandas dataframe\n",
    "from geopy.geocoders import Nominatim\n",
    "import matplotlib.cm as cm\n",
    "import matplotlib.colors as colors\n",
    "!conda install -c conda-forge folium=0.5.0 --yes\n",
    "import folium"
   ]
  },
  {
   "cell_type": "code",
   "execution_count": null,
   "metadata": {},
   "outputs": [],
   "source": []
  }
 ],
 "metadata": {
  "kernelspec": {
   "display_name": "Python 3.5",
   "language": "python",
   "name": "python3"
  },
  "language_info": {
   "codemirror_mode": {
    "name": "ipython",
    "version": 3
   },
   "file_extension": ".py",
   "mimetype": "text/x-python",
   "name": "python",
   "nbconvert_exporter": "python",
   "pygments_lexer": "ipython3",
   "version": "3.5.5"
  }
 },
 "nbformat": 4,
 "nbformat_minor": 1
}
