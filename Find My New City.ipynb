{
 "cells": [
  {
   "cell_type": "markdown",
   "metadata": {
    "collapsed": true
   },
   "source": [
    "# Find My New City\n",
    "\n",
    "### Many people wish to move cities and they are unsure on which city they should move to, one natural option to consider is moving to a city that is the most similar to your own. This project will solve that problem, it will take a users city based in the US as an input (such as a university student who has received multiple offers in different cities), after this then the program will cluster and classify cities based on their similarity to each other. After this is complete the city/cities which are most similar to the users original city will be displayed for them as well as the cities level of similarity to the original.\n",
    "\n",
    "### To complete the project I will be using US cities data and the FourSquare API together to obtain information about the various cities. Mainly data such as venues and venue types that can be found in the city. This data will be used as dimensions to classify the cities into different clusters."
   ]
  }
 ],
 "metadata": {
  "kernelspec": {
   "display_name": "Python 3.5",
   "language": "python",
   "name": "python3"
  },
  "language_info": {
   "codemirror_mode": {
    "name": "ipython",
    "version": 3
   },
   "file_extension": ".py",
   "mimetype": "text/x-python",
   "name": "python",
   "nbconvert_exporter": "python",
   "pygments_lexer": "ipython3",
   "version": "3.5.5"
  }
 },
 "nbformat": 4,
 "nbformat_minor": 1
}
